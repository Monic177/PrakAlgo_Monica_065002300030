{
  "nbformat": 4,
  "nbformat_minor": 0,
  "metadata": {
    "colab": {
      "provenance": [],
      "authorship_tag": "ABX9TyPqD4ii7uR/Ogi6MY0Z78s5",
      "include_colab_link": true
    },
    "kernelspec": {
      "name": "python3",
      "display_name": "Python 3"
    },
    "language_info": {
      "name": "python"
    }
  },
  "cells": [
    {
      "cell_type": "markdown",
      "metadata": {
        "id": "view-in-github",
        "colab_type": "text"
      },
      "source": [
        "<a href=\"https://colab.research.google.com/github/Monic177/PrakAlgo_Monica_065002300030/blob/main/PrakAlgo12.ipynb\" target=\"_parent\"><img src=\"https://colab.research.google.com/assets/colab-badge.svg\" alt=\"Open In Colab\"/></a>"
      ]
    },
    {
      "cell_type": "code",
      "execution_count": 2,
      "metadata": {
        "colab": {
          "base_uri": "https://localhost:8080/"
        },
        "id": "yeHfQ69qkDa2",
        "outputId": "4c4681b8-d479-448a-9d5a-0d74cd2501a4"
      },
      "outputs": [
        {
          "output_type": "stream",
          "name": "stdout",
          "text": [
            "@   @ @@@@ @@@@ @ @@@ @@@@\n",
            "@ @ @ @  @ @  @ @ @   @  @\n",
            "@   @ @  @ @  @ @ @   @@@@\n",
            "@   @ @@@@ @  @ @ @@@ @  @\n",
            "Masukkan jumlah angka pada List: 4\n",
            "Angka ke 1:3\n",
            "Angka ke 2:7\n",
            "Angka ke 3:11\n",
            "Angka ke 4:2\n",
            "[2, 3, 7, 11]\n"
          ]
        }
      ],
      "source": [
        "print('@   @ @@@@ @@@@ @ @@@ @@@@')\n",
        "print('@ @ @ @  @ @  @ @ @   @  @')\n",
        "print('@   @ @  @ @  @ @ @   @@@@')\n",
        "print('@   @ @@@@ @  @ @ @@@ @  @')\n",
        "\n",
        "list=[]\n",
        "minta=int(input('Masukkan jumlah angka pada List: '))\n",
        "for i in range(minta):\n",
        "    i+=1\n",
        "    list.append(int(input(f'Angka ke {i}:')))\n",
        "print(sorted(list))"
      ]
    },
    {
      "cell_type": "code",
      "source": [
        "print('@   @ @@@@ @@@@ @ @@@ @@@@')\n",
        "print('@ @ @ @  @ @  @ @ @   @  @')\n",
        "print('@   @ @  @ @  @ @ @   @@@@')\n",
        "print('@   @ @@@@ @  @ @ @@@ @  @')\n",
        "\n",
        "def Binary_search(num,nilai_dicari,kiri,kanan):\n",
        "    while kiri <= kanan:\n",
        "        mid = (kiri + kanan)//2\n",
        "        if nilai_dicari == num[mid]:\n",
        "            return mid\n",
        "        elif nilai_dicari > num[mid]:\n",
        "            kiri = mid + 1\n",
        "        else:\n",
        "            kanan = mid - 1\n",
        "    return -1\n",
        "num =[]\n",
        "minta=int(input('Masukkan jumlah pada angka List: '))\n",
        "for i in range(minta):\n",
        "    i+=1\n",
        "    num.append(int(input(f'Angka ke {i}:')))\n",
        "print(num)\n",
        "nilai_dicari = int(input('Masukkan angka yang dicari : '))\n",
        "hasil = Binary_search(num,nilai_dicari,0,len(num)-1)\n",
        "if hasil != -1:\n",
        "    print(\"Hasil Binary Search -> Ditemukan (di index ke) \" + str(hasil))\n",
        "else:\n",
        "    print(\"Angka tidak ditemukan\")\n",
        "\n",
        "def Binary_search(num,nilai_dicari,kiri,kanan):\n",
        "    while kiri <= kanan:\n",
        "        mid = (kiri + kanan)//2\n",
        "        if nilai_dicari == num[mid]:\n",
        "            return mid\n",
        "        elif nilai_dicari > num[mid]:\n",
        "            kiri = mid + 1\n",
        "        else:\n",
        "            kanan = mid - 1\n",
        "    return -1\n",
        "num =[]\n",
        "minta=int(input('Masukkan jumlah pada angka List: '))\n",
        "for i in range(minta):\n",
        "    i+=1\n",
        "    num.append(int(input(f'Angka ke {i}:')))\n",
        "print(num)\n",
        "nilai_dicari = int(input('Masukkan angka yang dicari : '))\n",
        "hasil = Binary_search(num,nilai_dicari,0,len(num)-1)\n",
        "if hasil != -1:\n",
        "    print(\"Hasil Binary Search -> Ditemukan (di index ke) \" + str(hasil))\n",
        "else:\n",
        "    print(\"Angka tidak ditemukan\")"
      ],
      "metadata": {
        "colab": {
          "base_uri": "https://localhost:8080/"
        },
        "id": "PMC14ZKgkQ1i",
        "outputId": "e3767c7b-f9a5-4066-a4ab-edb9e33c7f96"
      },
      "execution_count": 3,
      "outputs": [
        {
          "output_type": "stream",
          "name": "stdout",
          "text": [
            "@   @ @@@@ @@@@ @ @@@ @@@@\n",
            "@ @ @ @  @ @  @ @ @   @  @\n",
            "@   @ @  @ @  @ @ @   @@@@\n",
            "@   @ @@@@ @  @ @ @@@ @  @\n",
            "Masukkan jumlah pada angka List: 4\n",
            "Angka ke 1:3\n",
            "Angka ke 2:7\n",
            "Angka ke 3:11\n",
            "Angka ke 4:2\n",
            "[3, 7, 11, 2]\n",
            "Masukkan angka yang dicari : 7\n",
            "Hasil Binary Search -> Ditemukan (di index ke) 1\n",
            "Masukkan jumlah pada angka List: 4\n",
            "Angka ke 1:3\n",
            "Angka ke 2:7\n",
            "Angka ke 3:11\n",
            "Angka ke 4:2\n",
            "[3, 7, 11, 2]\n",
            "Masukkan angka yang dicari : 8\n",
            "Angka tidak ditemukan\n"
          ]
        }
      ]
    },
    {
      "cell_type": "code",
      "source": [
        "print('@   @ @@@@ @@@@ @ @@@ @@@@')\n",
        "print('@ @ @ @  @ @  @ @ @   @  @')\n",
        "print('@   @ @  @ @  @ @ @   @@@@')\n",
        "print('@   @ @@@@ @  @ @ @@@ @  @')\n",
        "\n",
        "def bubble_sorted():\n",
        "    list=[]\n",
        "    minta=int(input('Masukkan jumlah angka pada List: '))\n",
        "    for i in range(minta):\n",
        "        i+=1\n",
        "        list.append(int(input(f'masukan angka ke {i}:')))\n",
        "    print('list normalnya:',list)\n",
        "    for i in range(len(list)-1):\n",
        "        for j in range(len(list)-1-i):\n",
        "            if list[j]>list[j+1]:\n",
        "                list[j],list[j+1] = list[j+1],list[j]\n",
        "    print(f'Hasil Bubble Sort = {list}')\n",
        "bubble_sorted()"
      ],
      "metadata": {
        "colab": {
          "base_uri": "https://localhost:8080/"
        },
        "id": "s3QoPul_klb8",
        "outputId": "1afd308c-c1e6-428d-d090-7609f06d0b47"
      },
      "execution_count": 4,
      "outputs": [
        {
          "output_type": "stream",
          "name": "stdout",
          "text": [
            "@   @ @@@@ @@@@ @ @@@ @@@@\n",
            "@ @ @ @  @ @  @ @ @   @  @\n",
            "@   @ @  @ @  @ @ @   @@@@\n",
            "@   @ @@@@ @  @ @ @@@ @  @\n",
            "Masukkan jumlah angka pada List: 7\n",
            "masukan angka ke 1:33\n",
            "masukan angka ke 2:2\n",
            "masukan angka ke 3:60\n",
            "masukan angka ke 4:9\n",
            "masukan angka ke 5:1\n",
            "masukan angka ke 6:-7\n",
            "masukan angka ke 7:3\n",
            "list normalnya: [33, 2, 60, 9, 1, -7, 3]\n",
            "Hasil Bubble Sort = [-7, 1, 2, 3, 9, 33, 60]\n"
          ]
        }
      ]
    },
    {
      "cell_type": "code",
      "source": [
        "print('@   @ @@@@ @@@@ @ @@@ @@@@')\n",
        "print('@ @ @ @  @ @  @ @ @   @  @')\n",
        "print('@   @ @  @ @  @ @ @   @@@@')\n",
        "print('@   @ @@@@ @  @ @ @@@ @  @')\n",
        "\n",
        "def selection():\n",
        "    list=[]\n",
        "    minta=int(input('Masukkan jumlah angka pada List: '))\n",
        "    for i in range(minta):\n",
        "        i+=1\n",
        "        list.append(int(input(f'Angka ke {i}: ')))\n",
        "    print (f'List angka: {list}')\n",
        "    for i in range(0,len(list)-1):\n",
        "        p=0\n",
        "        mini=list[-1]\n",
        "        for j in range(i,len(list)):\n",
        "            if list[j]<=mini:\n",
        "                mini=list[j]\n",
        "                p=j\n",
        "        list[i],list[p]=list[p],list[i]\n",
        "    print(f'Hasil Selection Sort: {list}')\n",
        "selection()"
      ],
      "metadata": {
        "colab": {
          "base_uri": "https://localhost:8080/"
        },
        "id": "tuWlhmpfk52u",
        "outputId": "fbc58187-d8b4-44e3-d188-2e37eab69339"
      },
      "execution_count": 6,
      "outputs": [
        {
          "output_type": "stream",
          "name": "stdout",
          "text": [
            "@   @ @@@@ @@@@ @ @@@ @@@@\n",
            "@ @ @ @  @ @  @ @ @   @  @\n",
            "@   @ @  @ @  @ @ @   @@@@\n",
            "@   @ @@@@ @  @ @ @@@ @  @\n",
            "Masukkan jumlah angka pada List: 4\n",
            "Angka ke 1: 22\n",
            "Angka ke 2: 87\n",
            "Angka ke 3: 54\n",
            "Angka ke 4: 11\n",
            "List angka: [22, 87, 54, 11]\n",
            "Hasil Selection Sort: [11, 22, 54, 87]\n"
          ]
        }
      ]
    }
  ]
}