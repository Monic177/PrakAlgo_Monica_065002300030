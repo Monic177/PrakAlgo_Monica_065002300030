{
  "nbformat": 4,
  "nbformat_minor": 0,
  "metadata": {
    "colab": {
      "provenance": [],
      "authorship_tag": "ABX9TyPJtGH9Epkp9OOK8NkYpllG",
      "include_colab_link": true
    },
    "kernelspec": {
      "name": "python3",
      "display_name": "Python 3"
    },
    "language_info": {
      "name": "python"
    }
  },
  "cells": [
    {
      "cell_type": "markdown",
      "metadata": {
        "id": "view-in-github",
        "colab_type": "text"
      },
      "source": [
        "<a href=\"https://colab.research.google.com/github/Monic177/PrakAlgo_Monica_065002300030/blob/main/PrakAlgo13.ipynb\" target=\"_parent\"><img src=\"https://colab.research.google.com/assets/colab-badge.svg\" alt=\"Open In Colab\"/></a>"
      ]
    },
    {
      "cell_type": "code",
      "execution_count": null,
      "metadata": {
        "colab": {
          "base_uri": "https://localhost:8080/"
        },
        "id": "RqqiyFmEtb6B",
        "outputId": "05d53c41-784a-4b95-cdb7-881df2e46051"
      },
      "outputs": [
        {
          "output_type": "stream",
          "name": "stdout",
          "text": [
            "@   @ @@@@ @@@@ @ @@@ @@@@\n",
            "@ @ @ @  @ @  @ @ @   @  @\n",
            "@   @ @  @ @  @ @ @   @@@@\n",
            "@   @ @@@@ @  @ @ @@@ @  @\n",
            "Rata-rata nilai kelas: 80.80\n",
            "Siswa yang mendapatkan nilai di atas rata - rata: [85, 92, 89]\n"
          ]
        }
      ],
      "source": [
        "print('@   @ @@@@ @@@@ @ @@@ @@@@')\n",
        "print('@ @ @ @  @ @  @ @ @   @  @')\n",
        "print('@   @ @  @ @  @ @ @   @@@@')\n",
        "print('@   @ @@@@ @  @ @ @@@ @  @')\n",
        "\n",
        "# Nilai ujian\n",
        "nilai_siswa = [85, 73, 92, 65, 89]\n",
        "\n",
        "# Menghitung rata-rata nilai kelas\n",
        "rata_rata_nilai_kelas = sum(nilai_siswa) / len(nilai_siswa)\n",
        "\n",
        "# Menentukan siswa yang mendapatkan nilai di atas rata-rata kelas\n",
        "nilai_di_atas_rata_rata = [nilai for nilai in nilai_siswa if nilai > rata_rata_nilai_kelas]\n",
        "\n",
        "print(f\"Rata-rata nilai kelas: {rata_rata_nilai_kelas:.2f}\")\n",
        "print(f\"Siswa yang mendapatkan nilai di atas rata - rata: {nilai_di_atas_rata_rata}\")"
      ]
    },
    {
      "cell_type": "code",
      "source": [
        "print('@   @ @@@@ @@@@ @ @@@ @@@@')\n",
        "print('@ @ @ @  @ @  @ @ @   @  @')\n",
        "print('@   @ @  @ @  @ @ @   @@@@')\n",
        "print('@   @ @@@@ @  @ @ @@@ @  @')\n",
        "\n",
        "# fungsi untuk mengkonversi rupiah ke dolar\n",
        "def konversi_mata_uang (jumlah_rupiah, kurs_dolar):\n",
        "    jumlah_dolar = jumlah_rupiah / kurs_dolar\n",
        "    return jumlah_dolar\n",
        "\n",
        "# menginput rupiah dan kurs dolar\n",
        "jumlah_rupiah = float(input(\"Masukkan jumlah uang dalam rupiah: \"))\n",
        "kurs_dolar = float(input(\"Masukkan kurs Dolar terhadap rupiah: \"))\n",
        "\n",
        "\n",
        "jumlah_dolar = konversi_mata_uang(jumlah_rupiah, kurs_dolar)\n",
        "print(f\"Jumlah uang dalam Dolar: ${jumlah_dolar:.2f}\")"
      ],
      "metadata": {
        "colab": {
          "base_uri": "https://localhost:8080/"
        },
        "id": "izRsv4EFvWPn",
        "outputId": "1efc78bc-52f1-4a00-b732-707ca99401f7"
      },
      "execution_count": null,
      "outputs": [
        {
          "output_type": "stream",
          "name": "stdout",
          "text": [
            "@   @ @@@@ @@@@ @ @@@ @@@@\n",
            "@ @ @ @  @ @  @ @ @   @  @\n",
            "@   @ @  @ @  @ @ @   @@@@\n",
            "@   @ @@@@ @  @ @ @@@ @  @\n",
            "Masukkan jumlah uang dalam rupiah: 15000\n",
            "Masukkan kurs Dolar terhadap rupiah: 15430\n",
            "Jumlah uang dalam Dolar: $0.97\n"
          ]
        }
      ]
    },
    {
      "cell_type": "code",
      "source": [
        "proyek_list = [\n",
        "    {\"nama\": \"Proyek A\", \"status\": \"Selesai\", \"estimasi_waktu\": 10},\n",
        "    {\"nama\": \"Proyek B\", \"status\": \"Dalam Pengerjaan\", \"estimasi_waktu\": 20},\n",
        "    {\"nama\": \"Proyek C\", \"status\": \"Dalam Pengerjaan\", \"estimasi_waktu\": 15},\n",
        "    {\"nama\": \"Proyek D\", \"status\": \"Selesai\", \"estimasi_waktu\": 8},\n",
        "]\n",
        "\n",
        "# Menampilkan informasi setiap proyek\n",
        "for proyek in proyek_list:\n",
        "    print(f\"Nama Proyek: {proyek['nama']}\")\n",
        "    print(f\"Status Proyek: {proyek['status']}\")\n",
        "    print(f\"Estimasi Waktu: {proyek['estimasi_waktu']} hari\")\n",
        "    print(\"\\n\")\n"
      ],
      "metadata": {
        "colab": {
          "base_uri": "https://localhost:8080/"
        },
        "id": "qF8_21Jn53B4",
        "outputId": "9bea47f8-d9ec-484b-c6e9-2ede6088959e"
      },
      "execution_count": null,
      "outputs": [
        {
          "output_type": "stream",
          "name": "stdout",
          "text": [
            "Nama Proyek: Proyek A\n",
            "Status Proyek: Selesai\n",
            "Estimasi Waktu: 10 hari\n",
            "\n",
            "\n",
            "Nama Proyek: Proyek B\n",
            "Status Proyek: Dalam Pengerjaan\n",
            "Estimasi Waktu: 20 hari\n",
            "\n",
            "\n",
            "Nama Proyek: Proyek C\n",
            "Status Proyek: Dalam Pengerjaan\n",
            "Estimasi Waktu: 15 hari\n",
            "\n",
            "\n",
            "Nama Proyek: Proyek D\n",
            "Status Proyek: Selesai\n",
            "Estimasi Waktu: 8 hari\n",
            "\n",
            "\n"
          ]
        }
      ]
    },
    {
      "cell_type": "code",
      "source": [],
      "metadata": {
        "id": "p1NxDwDpcsJE"
      },
      "execution_count": null,
      "outputs": []
    }
  ]
}