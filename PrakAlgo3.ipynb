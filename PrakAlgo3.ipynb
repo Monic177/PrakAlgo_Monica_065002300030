{
  "nbformat": 4,
  "nbformat_minor": 0,
  "metadata": {
    "colab": {
      "provenance": [],
      "authorship_tag": "ABX9TyP4PsMKZQKX59+In8G7LbXT",
      "include_colab_link": true
    },
    "kernelspec": {
      "name": "python3",
      "display_name": "Python 3"
    },
    "language_info": {
      "name": "python"
    }
  },
  "cells": [
    {
      "cell_type": "markdown",
      "metadata": {
        "id": "view-in-github",
        "colab_type": "text"
      },
      "source": [
        "<a href=\"https://colab.research.google.com/github/Monic177/PrakAlgo_Monica_065002300030/blob/main/PrakAlgo3.ipynb\" target=\"_parent\"><img src=\"https://colab.research.google.com/assets/colab-badge.svg\" alt=\"Open In Colab\"/></a>"
      ]
    },
    {
      "cell_type": "code",
      "execution_count": 17,
      "metadata": {
        "colab": {
          "base_uri": "https://localhost:8080/"
        },
        "id": "BXFlFu8mpAWx",
        "outputId": "6af1a1ce-7cfa-4cad-fa89-42dc67ba8ec5"
      },
      "outputs": [
        {
          "output_type": "stream",
          "name": "stdout",
          "text": [
            "@   @ @@@@ @@@@ @ @@@ @@@@\n",
            "@ @ @ @  @ @  @ @ @   @  @\n",
            "@   @ @  @ @  @ @ @   @@@@\n",
            "@   @ @@@@ @  @ @ @@@ @  @\n",
            "Masukkan angka awal: 40\n",
            "Masukkan angka akhir: 80\n",
            "40 | 80\n",
            "41 | 79\n",
            "42 | 78\n",
            "43 | 77\n",
            "44 | 76\n",
            "45 | 75\n",
            "46 | 74\n",
            "47 | 73\n",
            "48 | 72\n",
            "49 | 71\n",
            "50 | 70\n",
            "51 | 69\n",
            "52 | 68\n",
            "53 | 67\n",
            "54 | 66\n",
            "55 | 65\n",
            "56 | 64\n",
            "57 | 63\n",
            "58 | 62\n",
            "59 | 61\n",
            "60 | 60\n"
          ]
        }
      ],
      "source": [
        "print('@   @ @@@@ @@@@ @ @@@ @@@@')\n",
        "print('@ @ @ @  @ @  @ @ @   @  @')\n",
        "print('@   @ @  @ @  @ @ @   @@@@')\n",
        "print('@   @ @@@@ @  @ @ @@@ @  @')\n",
        "\n",
        "angka_awal = int(input(\"Masukkan angka awal: \"))\n",
        "angka_akhir = int(input(\"Masukkan angka akhir: \"))\n",
        "if angka_awal > angka_akhir:\n",
        "    angka_awal, angka_akhir = angka_akhir, angka_awal\n",
        "i = angka_awal\n",
        "j = angka_akhir\n",
        "while i <= j:\n",
        "    print(f\"{i} | {j}\")\n",
        "    i += 1\n",
        "    j -= 1\n",
        "\n"
      ]
    },
    {
      "cell_type": "code",
      "source": [
        "print('@   @ @@@@ @@@@ @ @@@ @@@@')\n",
        "print('@ @ @ @  @ @  @ @ @   @  @')\n",
        "print('@   @ @  @ @  @ @ @   @@@@')\n",
        "print('@   @ @@@@ @  @ @ @@@ @  @')\n",
        "\n",
        "# Menerima input total harga belanjaan\n",
        "total_harga = float(input(\"Masukkan total harga belanjaan: Rp. \"))\n",
        "\n",
        "# Menerima input jumlah uang dari pelanggan\n",
        "jumlah_uang = float(input(\"Masukkan jumlah uang yang diberikan: Rp. \"))\n",
        "\n",
        "# Menghitung kembalian\n",
        "kembalian = jumlah_uang - total_harga\n",
        "\n",
        "# Inisialisasi daftar lembar uang dengan nilai nominal\n",
        "lembar_uang = [100000, 50000, 20000, 10000, 5000, 2000, 1000]\n",
        "\n",
        "# Inisialisasi daftar jumlah lembar uang yang dibutuhkan\n",
        "jumlah_lembar_uang = [0, 0, 0, 0, 0, 0, 0]\n",
        "\n",
        "# Menghitung jumlah lembar uang yang dibutuhkan\n",
        "for i in range(len(lembar_uang)):\n",
        "    if kembalian >= lembar_uang[i]:\n",
        "        jumlah_lembar_uang[i] = int(kembalian / lembar_uang[i])\n",
        "        kembalian = kembalian % lembar_uang[i]\n",
        "\n",
        "# Menampilkan kembalian\n",
        "print(\"Kembalian: Rp\", round(jumlah_uang - total_harga, 2))\n",
        "\n",
        "# Menampilkan jumlah lembar uang yang dibutuhkan\n",
        "for i in range(len(lembar_uang)):\n",
        "    if jumlah_lembar_uang[i] > 0:\n",
        "        print(\"Lembar\", lembar_uang[i], \":\", jumlah_lembar_uang[i], \"lembar\")"
      ],
      "metadata": {
        "colab": {
          "base_uri": "https://localhost:8080/"
        },
        "id": "ADuEQ7OIvsFR",
        "outputId": "0a94422f-5522-469c-aadb-9c2a77a7c1dc"
      },
      "execution_count": 19,
      "outputs": [
        {
          "output_type": "stream",
          "name": "stdout",
          "text": [
            "@   @ @@@@ @@@@ @ @@@ @@@@\n",
            "@ @ @ @  @ @  @ @ @   @  @\n",
            "@   @ @  @ @  @ @ @   @@@@\n",
            "@   @ @@@@ @  @ @ @@@ @  @\n",
            "Masukkan total harga belanjaan: Rp. 85000\n",
            "Masukkan jumlah uang yang diberikan: Rp. 100000\n",
            "Kembalian: Rp 15000.0\n",
            "Lembar 10000 : 1 lembar\n",
            "Lembar 5000 : 1 lembar\n"
          ]
        }
      ]
    }
  ]
}