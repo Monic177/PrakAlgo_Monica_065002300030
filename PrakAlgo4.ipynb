{
  "nbformat": 4,
  "nbformat_minor": 0,
  "metadata": {
    "colab": {
      "provenance": [],
      "authorship_tag": "ABX9TyOlOYwwRJj8EUyKVRC2K1PB",
      "include_colab_link": true
    },
    "kernelspec": {
      "name": "python3",
      "display_name": "Python 3"
    },
    "language_info": {
      "name": "python"
    }
  },
  "cells": [
    {
      "cell_type": "markdown",
      "metadata": {
        "id": "view-in-github",
        "colab_type": "text"
      },
      "source": [
        "<a href=\"https://colab.research.google.com/github/Monic177/PrakAlgo_Monica_065002300030/blob/main/PrakAlgo4.ipynb\" target=\"_parent\"><img src=\"https://colab.research.google.com/assets/colab-badge.svg\" alt=\"Open In Colab\"/></a>"
      ]
    },
    {
      "cell_type": "code",
      "execution_count": 28,
      "metadata": {
        "colab": {
          "base_uri": "https://localhost:8080/"
        },
        "id": "e-rGnkZMs9Fh",
        "outputId": "ff766d54-973b-43de-9b7f-1a21f20f7d91"
      },
      "outputs": [
        {
          "output_type": "stream",
          "name": "stdout",
          "text": [
            "@   @ @@@@ @@@@ @ @@@ @@@@\n",
            "@ @ @ @  @ @  @ @ @   @  @\n",
            "@   @ @  @ @  @ @ @   @@@@\n",
            "@   @ @@@@ @  @ @ @@@ @  @\n",
            "\n",
            "----Program konversi bilangan----\n",
            "1. Angka ke Biner\n",
            "2. Biner ke Angka\n",
            "3. Exit\n",
            "Masukkan pilihan (1/2/3): 1\n",
            "Masukkan bilangan angka: 13\n",
            "Angka dalam biner adalah: 1101\n",
            "\n",
            "----Program konversi bilangan----\n",
            "1. Angka ke Biner\n",
            "2. Biner ke Angka\n",
            "3. Exit\n",
            "Masukkan pilihan (1/2/3): 2\n",
            "Masukkan bilangan biner: 1101\n",
            "13\n",
            "\n",
            "----Program konversi bilangan----\n",
            "1. Angka ke Biner\n",
            "2. Biner ke Angka\n",
            "3. Exit\n",
            "Masukkan pilihan (1/2/3): 3\n",
            "Terimakasih!!! \n"
          ]
        }
      ],
      "source": [
        "print('@   @ @@@@ @@@@ @ @@@ @@@@')\n",
        "print('@ @ @ @  @ @  @ @ @   @  @')\n",
        "print('@   @ @  @ @  @ @ @   @@@@')\n",
        "print('@   @ @@@@ @  @ @ @@@ @  @')\n",
        "\n",
        "def angka_ke_biner(angka):\n",
        "    return bin(angka).replace(\"0b\", \"\")\n",
        "\n",
        "def biner_ke_angka(biner):\n",
        "    return int(biner, 2)\n",
        "\n",
        "# Program Utama\n",
        "while True:\n",
        "    print(\"\\n----Program konversi bilangan----\")\n",
        "    print(\"1. Angka ke Biner\")\n",
        "    print(\"2. Biner ke Angka\")\n",
        "    print(\"3. Exit\")\n",
        "\n",
        "    pilihan = input(\"Masukkan pilihan (1/2/3): \")\n",
        "\n",
        "    if pilihan == '1':\n",
        "        angka = int(input(\"Masukkan bilangan angka: \"))\n",
        "        biner = angka_ke_biner(angka)\n",
        "        print(f\"Angka dalam biner adalah: {biner}\")\n",
        "    elif pilihan == '2':\n",
        "        biner = input(\"Masukkan bilangan biner: \")\n",
        "        angka = biner_ke_angka(biner)\n",
        "        print(f\"{angka}\")\n",
        "    elif pilihan == '3':\n",
        "         print(f\"Terimakasih!!! \")\n",
        "\n",
        "         break\n",
        "\n",
        "    else:\n",
        "        print(\"Pilihan tidak valid. Silakan coba lagi.\")\n",
        "\n"
      ]
    },
    {
      "cell_type": "code",
      "source": [
        "print('@   @ @@@@ @@@@ @ @@@ @@@@')\n",
        "print('@ @ @ @  @ @  @ @ @   @  @')\n",
        "print('@   @ @  @ @  @ @ @   @@@@')\n",
        "print('@   @ @@@@ @  @ @ @@@ @  @')\n",
        "\n",
        "def cek_angka_genap(lst):\n",
        "    for angka in lst:\n",
        "        if angka % 2 == 0:\n",
        "            return True\n",
        "    return False\n",
        "\n",
        "input_str = input(\"Masukkan list angka (integer)-> \")\n",
        "angka_list = [int(x) for x in input_str.split()]\n",
        "\n",
        "hasil = cek_angka_genap(angka_list)\n",
        "\n",
        "if hasil:\n",
        "    print(\"List memiliki angka genap.\")\n",
        "else:\n",
        "    print(\"List tidak memiliki angka genap.\")"
      ],
      "metadata": {
        "id": "vTnN0G2p6Jb3"
      },
      "execution_count": null,
      "outputs": []
    }
  ]
}