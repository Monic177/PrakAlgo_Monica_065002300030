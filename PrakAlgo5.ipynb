{
  "nbformat": 4,
  "nbformat_minor": 0,
  "metadata": {
    "colab": {
      "provenance": [],
      "authorship_tag": "ABX9TyPDtqaechBtNyAvXx/JHivr",
      "include_colab_link": true
    },
    "kernelspec": {
      "name": "python3",
      "display_name": "Python 3"
    },
    "language_info": {
      "name": "python"
    }
  },
  "cells": [
    {
      "cell_type": "markdown",
      "metadata": {
        "id": "view-in-github",
        "colab_type": "text"
      },
      "source": [
        "<a href=\"https://colab.research.google.com/github/Monic177/PrakAlgo_Monica_065002300030/blob/main/PrakAlgo5.ipynb\" target=\"_parent\"><img src=\"https://colab.research.google.com/assets/colab-badge.svg\" alt=\"Open In Colab\"/></a>"
      ]
    },
    {
      "cell_type": "code",
      "execution_count": 9,
      "metadata": {
        "colab": {
          "base_uri": "https://localhost:8080/"
        },
        "id": "jmLJunpbujFF",
        "outputId": "4f71b850-1d37-4791-81ea-ec5691af85f3"
      },
      "outputs": [
        {
          "output_type": "stream",
          "name": "stdout",
          "text": [
            "@   @ @@@@ @@@@ @ @@@ @@@@\n",
            "@ @ @ @  @ @  @ @ @   @  @\n",
            "@   @ @  @ @  @ @ @   @@@@\n",
            "@   @ @@@@ @  @ @ @@@ @  @\n",
            "Masukkan jumlah bilangan: 7\n",
            "Masukkan angka pertama: 2\n",
            "Masukkan angka kedua: 1\n",
            "angka selanjutnya 2\n",
            "angka selanjutnya 1\n",
            "angka selanjutnya 3\n",
            "angka selanjutnya 4\n",
            "angka selanjutnya 7\n",
            "angka selanjutnya 11\n",
            "angka selanjutnya 18\n"
          ]
        }
      ],
      "source": [
        "print('@   @ @@@@ @@@@ @ @@@ @@@@')\n",
        "print('@ @ @ @  @ @  @ @ @   @  @')\n",
        "print('@   @ @  @ @  @ @ @   @@@@')\n",
        "print('@   @ @@@@ @  @ @ @@@ @  @')\n",
        "\n",
        "# Meminta input dari pengguna\n",
        "jumlah = int(input(\"Masukkan jumlah bilangan: \"))\n",
        "bilangan1 = int(input(\"Masukkan angka pertama: \"))\n",
        "bilangan2 = int(input(\"Masukkan angka kedua: \"))\n",
        "\n",
        "deretfibonacci=[bilangan1, bilangan2]\n",
        "for i in range(2,jumlah):\n",
        "  nextfibonacci=deretfibonacci[i-1]+deretfibonacci[i-2]\n",
        "  deretfibonacci.append(nextfibonacci)\n",
        "for x in deretfibonacci:\n",
        "  print(f'angka selanjutnya {x}')\n"
      ]
    },
    {
      "cell_type": "code",
      "source": [
        "print('@   @ @@@@ @@@@ @ @@@ @@@@')\n",
        "print('@ @ @ @  @ @  @ @ @   @  @')\n",
        "print('@   @ @  @ @  @ @ @   @@@@')\n",
        "print('@   @ @@@@ @  @ @ @@@ @  @')\n",
        "\n",
        "# Input nama\n",
        "while True:\n",
        "    nama = input(\"Nama : \")\n",
        "\n",
        "    if nama.isdigit():\n",
        "        print(\"Masukkan nama yang valid!\")\n",
        "        continue\n",
        "\n",
        "\n",
        "        # Input jam kerja\n",
        "    jamKerja = float(input(\"Jam masuk kerja (jam.menit)[contoh 6.30 untuk 06:30]: \"))\n",
        "\n",
        "        # Gaji perhari\n",
        "    gajiPerhari = 175000\n",
        "\n",
        "        # Mengecek apakah jam kerja valid (antara 0 hingga 24)\n",
        "    if jamKerja < 0.00 or jamKerja > 24.00:\n",
        "            print(\"Jam masuk kerja tidak valid!\")\n",
        "    else:\n",
        "            # Ucapan selamat pagi, siang, sore, malam berdasarkan waktu\n",
        "            if jamKerja >= 6.00 and jamKerja <= 12.00:\n",
        "                print(f\"\\nSelamat pagi {nama}\\n\")\n",
        "            elif jamKerja >= 12.00 and jamKerja <= 15.00:\n",
        "                print(f\"\\nSelamat siang {nama}\\n\")\n",
        "            elif jamKerja >= 15.00 and jamKerja <= 18.00:\n",
        "                print(f\"\\nSelamat sore {nama}\\n\")\n",
        "            elif jamKerja >= 18.00 and jamKerja <= 24.00:\n",
        "                print(f\"\\nSelamat malam {nama}\\n\")\n",
        "            else:\n",
        "                print(\"Jam masuk kerja tidak valid!\")\n",
        "\n",
        "            # Input jam keluar kerja\n",
        "            jamKeluarKerja = float(input(\"Jam keluar kerja (jam.menit)[contoh 18.30 untuk 18:30]: \"))\n",
        "\n",
        "            # Mengecek apakah jam keluar kerja valid (antara 0 hingga 24)\n",
        "            if jamKeluarKerja < 0.00 or jamKeluarKerja > 24.00:\n",
        "                print(\"Jam keluar kerja tidak valid!\")\n",
        "            else:\n",
        "                # Ucapan selamat pagi, siang, sore, malam berdasarkan waktu\n",
        "                if jamKeluarKerja >= 6.00 and jamKeluarKerja <= 12.00:\n",
        "                    print(f\"\\nSelamat pagi\\n\")\n",
        "                elif jamKeluarKerja >= 12.00 and jamKeluarKerja <= 15.00:\n",
        "                    print(f\"\\nSelamat siang\\n\")\n",
        "                elif jamKeluarKerja >= 15.00 and jamKeluarKerja <= 18.00:\n",
        "                    print(f\"\\nSelamat sore\\n\")\n",
        "                elif jamKeluarKerja >= 18.00 and jamKeluarKerja <= 24.00:\n",
        "                    print(f\"\\nSelamat malam\\n\")\n",
        "                else:\n",
        "                    print(\"Jam keluar kerja tidak valid!\")\n",
        "\n",
        "                print(5 * \"-\", \"Rincian gaji\", 5 * \"-\")\n",
        "\n",
        "                print(f\"Nama : {nama}\")\n",
        "\n",
        "                waktuKerja = (jamKeluarKerja - jamKerja)\n",
        "\n",
        "                print(f\"Waktu Kerja = {int(waktuKerja)} jam ({jamKerja:.2f} s.d {jamKeluarKerja:.2f})\")\n",
        "\n",
        "                if waktuKerja <= 8:\n",
        "                    gaji_total = gajiPerhari\n",
        "                else:\n",
        "                    gaji_tambahan = (int(waktuKerja) - 8) * 15000\n",
        "                    gaji_total = gajiPerhari + gaji_tambahan\n",
        "\n",
        "                print(f\"Gaji perhari : {gajiPerhari}\")\n",
        "                print(f\"Lembur : {gaji_tambahan:.2f} ({int(waktuKerja - 8)} jam * Rp.15,000)\")\n",
        "                print(f\"Gaji Total: {gaji_total:.2f}\")\n",
        "    ulangi = input(\"Ulangi Proses? (y/n) : \")\n",
        "    if ulangi.lower() != \"y\":\n",
        "\n",
        "        break\n",
        ""
      ],
      "metadata": {
        "colab": {
          "base_uri": "https://localhost:8080/"
        },
        "id": "H5iWDgPR0w39",
        "outputId": "697d4aaf-7f8a-41a8-aa1f-d4fac684707b"
      },
      "execution_count": 10,
      "outputs": [
        {
          "name": "stdout",
          "output_type": "stream",
          "text": [
            "@   @ @@@@ @@@@ @ @@@ @@@@\n",
            "@ @ @ @  @ @  @ @ @   @  @\n",
            "@   @ @  @ @  @ @ @   @@@@\n",
            "@   @ @@@@ @  @ @ @@@ @  @\n",
            "Nama : monica\n",
            "Jam masuk kerja (jam.menit)[contoh 6.30 untuk 06:30]: 8.00\n",
            "\n",
            "Selamat pagi monica\n",
            "\n",
            "Jam keluar kerja (jam.menit)[contoh 18.30 untuk 18:30]: 22.00\n",
            "\n",
            "Selamat malam\n",
            "\n",
            "----- Rincian gaji -----\n",
            "Nama : monica\n",
            "Waktu Kerja = 14 jam (8.00 s.d 22.00)\n",
            "Gaji perhari : 175000\n",
            "Lembur : 90000.00 (6 jam * Rp.15,000)\n",
            "Gaji Total: 265000.00\n",
            "Ulangi Proses? (y/n) : n\n"
          ]
        }
      ]
    }
  ]
}