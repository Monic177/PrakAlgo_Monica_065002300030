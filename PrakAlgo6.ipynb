{
  "cells": [
    {
      "cell_type": "markdown",
      "metadata": {
        "id": "view-in-github",
        "colab_type": "text"
      },
      "source": [
        "<a href=\"https://colab.research.google.com/github/Monic177/PrakAlgo_Monica_065002300030/blob/main/PrakAlgo6.ipynb\" target=\"_parent\"><img src=\"https://colab.research.google.com/assets/colab-badge.svg\" alt=\"Open In Colab\"/></a>"
      ]
    },
    {
      "cell_type": "code",
      "execution_count": null,
      "metadata": {
        "colab": {
          "base_uri": "https://localhost:8080/"
        },
        "id": "EQpZrnnc6-m2",
        "outputId": "2a24986c-c172-426d-b9a2-e1120b149f77"
      },
      "outputs": [
        {
          "name": "stdout",
          "output_type": "stream",
          "text": [
            "GENAP -> Perpindahan (Diketahui v0 Konstan)\n",
            "Masukkan v0: 5\n",
            "Masukkan a: 10\n",
            "Masukkan s: 6\n",
            "Jarak tempuh jika kecepatan awal adalah 5 dengan percepatan 10 dan jarak tempuh 6 adalah 12.041594578792296\n"
          ]
        }
      ],
      "source": [
        "import math\n",
        "\n",
        "print('GENAP  -> Perpindahan (Diketahui v0 Konstan)')\n",
        "\n",
        "def hitung_kecepatan_akhir(v0, a, s):\n",
        "    vt2 = v0**2 + 2 * a * s\n",
        "    vt = math.sqrt(vt2)\n",
        "    return vt\n",
        "\n",
        "# Memasukkan nilai kecepatan awal, percepatan, dan jarak tempuh\n",
        "kecepatan_awal = int(input(\"Masukkan v0: \"))\n",
        "percepatan = int(input(\"Masukkan a: \"))\n",
        "jarak_tempuh = int(input(\"Masukkan s: \"))\n",
        "\n",
        "# Memanggil fungsi untuk menghitung kecepatan akhir\n",
        "hasil = hitung_kecepatan_akhir(kecepatan_awal, percepatan, jarak_tempuh)\n",
        "\n",
        "print(f\"Jarak tempuh jika kecepatan awal adalah {kecepatan_awal} dengan percepatan {percepatan} dan jarak tempuh {jarak_tempuh} adalah {hasil}\")"
      ]
    },
    {
      "cell_type": "code",
      "execution_count": null,
      "metadata": {
        "colab": {
          "background_save": true,
          "base_uri": "https://localhost:8080/"
        },
        "id": "ZAr4LSK0EFC8",
        "outputId": "6d072c7b-81c4-47b2-f95a-a38de2b6c0a7"
      },
      "outputs": [
        {
          "name": "stdout",
          "output_type": "stream",
          "text": [
            "\n",
            "KALKULATOR MENCARI:\n",
            "1. Kubus\n",
            "2. Balok\n",
            "3. Tabung\n",
            "4. Kerucut\n",
            "5. Bola\n",
            "6. Keluar\n",
            "sisi: 2.0\n",
            "Luas permukaan kubus: 24.0\n",
            "\n",
            "KALKULATOR MENCARI:\n",
            "1. Kubus\n",
            "2. Balok\n",
            "3. Tabung\n",
            "4. Kerucut\n",
            "5. Bola\n",
            "6. Keluar\n",
            "panjang: 5.0\n",
            "lebar: 2.0\n",
            "tinggi: 1.0\n",
            "Luas permukaan balok: 34.0\n",
            "\n",
            "KALKULATOR MENCARI:\n",
            "1. Kubus\n",
            "2. Balok\n",
            "3. Tabung\n",
            "4. Kerucut\n",
            "5. Bola\n",
            "6. Keluar\n",
            "jari - jari: 7.0\n",
            "tinggi: 2.0\n",
            "Luas permukaan tabung: 395.84067435231395\n",
            "\n",
            "KALKULATOR MENCARI:\n",
            "1. Kubus\n",
            "2. Balok\n",
            "3. Tabung\n",
            "4. Kerucut\n",
            "5. Bola\n",
            "6. Keluar\n",
            "jari - jari: 7.0\n",
            "Luas permukaan bola: 615.7521601035994\n",
            "\n",
            "KALKULATOR MENCARI:\n",
            "1. Kubus\n",
            "2. Balok\n",
            "3. Tabung\n",
            "4. Kerucut\n",
            "5. Bola\n",
            "6. Keluar\n"
          ]
        }
      ],
      "source": [
        "import math\n",
        "\n",
        "def luas_permukaan_kubus(sisi):\n",
        "    return 6 * sisi**2\n",
        "\n",
        "def luas_permukaan_balok(panjang, lebar, tinggi):\n",
        "    return 2 * (panjang * lebar + panjang * tinggi + lebar * tinggi)\n",
        "\n",
        "def luas_permukaan_tabung(jari_jari, tinggi):\n",
        "    return 2 * math.pi * jari_jari * (jari_jari + tinggi)\n",
        "\n",
        "def luas_permukaan_kerucut(jari_jari, garis_pelukis):\n",
        "    return math.pi * jari_jari * (jari_jari + garis_pelukis)\n",
        "\n",
        "def luas_permukaan_bola(jari_jari):\n",
        "    return 4 * math.pi * jari_jari**2\n",
        "\n",
        "def main():\n",
        "    while True:\n",
        "        print(\"\\nKALKULATOR MENCARI:\")\n",
        "        print(\"1. Kubus\")\n",
        "        print(\"2. Balok\")\n",
        "        print(\"3. Tabung\")\n",
        "        print(\"4. Kerucut\")\n",
        "        print(\"5. Bola\")\n",
        "        print(\"6. Keluar\")\n",
        "\n",
        "        pilihan = int(input(\"Mau yang mana: \"))\n",
        "\n",
        "        if pilihan == 1:\n",
        "            sisi = float(input(\"Masukkan sisi: \"))\n",
        "            print(f\"sisi: {sisi}\")\n",
        "            print(f\"Luas permukaan kubus: {luas_permukaan_kubus(sisi)}\")\n",
        "        elif pilihan == 2:\n",
        "            panjang = float(input(\"Masukkan panjang: \"))\n",
        "            lebar = float(input(\"Masukkan lebar: \"))\n",
        "            tinggi = float(input(\"Masukkan tinggi: \"))\n",
        "            print(f\"panjang: {panjang}\")\n",
        "            print(f\"lebar: {lebar}\")\n",
        "            print(f\"tinggi: {tinggi}\")\n",
        "            print(f\"Luas permukaan balok: {luas_permukaan_balok(panjang, lebar, tinggi)}\")\n",
        "        elif pilihan == 3:\n",
        "            jari_jari = float(input(\"Masukkan jari-jari: \"))\n",
        "            tinggi = float(input(\"Masukkan tinggi: \"))\n",
        "            print(f\"jari - jari: {jari_jari}\")\n",
        "            print(f\"tinggi: {tinggi}\")\n",
        "            print(f\"Luas permukaan tabung: {luas_permukaan_tabung(jari_jari, tinggi)}\")\n",
        "        elif pilihan == 4:\n",
        "            jari_jari = float(input(\"Masukkan jari-jari: \"))\n",
        "            garis_pelukis = float(input(\"Masukkan garis pelukis: \"))\n",
        "            print(f\"jari - jari: {jari_jari}\")\n",
        "            print(f\"garis pelukis: {garis_pelukis}\")\n",
        "            print(f\"Luas permukaan kerucut: {luas_permukaan_kerucut(jari_jari, garis_pelukis)}\")\n",
        "        elif pilihan == 5:\n",
        "            jari_jari = float(input(\"Masukkan jari-jari: \"))\n",
        "            print(f\"jari - jari: {jari_jari}\")\n",
        "            print(f\"Luas permukaan bola: {luas_permukaan_bola(jari_jari)}\")\n",
        "        elif pilihan == 6:\n",
        "            print(\"Terima kasih!\")\n",
        "            break\n",
        "        else:\n",
        "            print(\"Pilihan tidak valid. Silakan pilih nomor dari 1 hingga 6.\")\n",
        "\n",
        "if  __name__ == \"__main__\":\n",
        "    main()"
      ]
    }
  ],
  "metadata": {
    "colab": {
      "provenance": [],
      "authorship_tag": "ABX9TyNqsI6QkDZ86a+b5Y5qmDi8",
      "include_colab_link": true
    },
    "kernelspec": {
      "display_name": "Python 3",
      "name": "python3"
    },
    "language_info": {
      "name": "python"
    }
  },
  "nbformat": 4,
  "nbformat_minor": 0
}