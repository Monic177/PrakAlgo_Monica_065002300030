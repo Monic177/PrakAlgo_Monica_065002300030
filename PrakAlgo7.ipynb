{
  "cells": [
    {
      "cell_type": "markdown",
      "metadata": {
        "id": "view-in-github",
        "colab_type": "text"
      },
      "source": [
        "<a href=\"https://colab.research.google.com/github/Monic177/PrakAlgo_Monica_065002300030/blob/main/PrakAlgo7.ipynb\" target=\"_parent\"><img src=\"https://colab.research.google.com/assets/colab-badge.svg\" alt=\"Open In Colab\"/></a>"
      ]
    },
    {
      "cell_type": "code",
      "execution_count": 1,
      "metadata": {
        "id": "TF1qkyjm4Jnz",
        "colab": {
          "base_uri": "https://localhost:8080/"
        },
        "outputId": "6f5b38d3-1492-44c8-cec7-e12148a0c8b4"
      },
      "outputs": [
        {
          "output_type": "stream",
          "name": "stdout",
          "text": [
            "@   @ @@@@ @@@@ @ @@@ @@@@\n",
            "@ @ @ @  @ @  @ @ @   @  @\n",
            "@   @ @  @ @  @ @ @   @@@@\n",
            "@   @ @@@@ @  @ @ @@@ @  @\n",
            "nilai: 5\n",
            "Faktorial dari 5 adalah 120\n"
          ]
        }
      ],
      "source": [
        "print('@   @ @@@@ @@@@ @ @@@ @@@@')\n",
        "print('@ @ @ @  @ @  @ @ @   @  @')\n",
        "print('@   @ @  @ @  @ @ @   @@@@')\n",
        "print('@   @ @@@@ @  @ @ @@@ @  @')\n",
        "\n",
        "def faktorial(n):\n",
        "    if n == 0 or n == 1:\n",
        "        return 1\n",
        "    else:\n",
        "        return n * faktorial(n - 1)\n",
        "\n",
        "bilangan = int(input(\"nilai: \"))\n",
        "\n",
        "hasil_faktorial = faktorial(bilangan)\n",
        "print(f\"Faktorial dari {bilangan} adalah {hasil_faktorial}\")"
      ]
    },
    {
      "cell_type": "code",
      "execution_count": null,
      "metadata": {
        "colab": {
          "base_uri": "https://localhost:8080/"
        },
        "id": "fxmIrgo-5G-I",
        "outputId": "d53c7da0-f8c3-47f3-8f62-d21262df7532"
      },
      "outputs": [
        {
          "name": "stdout",
          "output_type": "stream",
          "text": [
            "@   @ @@@@ @@@@ @ @@@ @@@@\n",
            "@ @ @ @  @ @  @ @ @   @  @\n",
            "@   @ @  @ @  @ @ @   @@@@\n",
            "@   @ @@@@ @  @ @ @@@ @  @\n",
            "Masukkan sesuatu: helloWorld\n",
            "Jumlah huruf vokal: 3\n",
            "Jumlah huruf konsonan: 7\n"
          ]
        }
      ],
      "source": [
        "print('@   @ @@@@ @@@@ @ @@@ @@@@')\n",
        "print('@ @ @ @  @ @  @ @ @   @  @')\n",
        "print('@   @ @  @ @  @ @ @   @@@@')\n",
        "print('@   @ @@@@ @  @ @ @@@ @  @')\n",
        "\n",
        "def hitung_vokal_konsonan(kalimat):\n",
        "    # Inisialisasi variabel untuk jumlah huruf vokal dan konsonan\n",
        "    jumlah_vokal = 0\n",
        "    jumlah_konsonan = 0\n",
        "\n",
        "    # Daftar huruf vokal\n",
        "    vokal = \"aeiou\"\n",
        "\n",
        "    # Mengonversi kalimat menjadi huruf kecil untuk mempermudah perhitungan\n",
        "    kalimat = kalimat.lower()\n",
        "\n",
        "    # Iterasi melalui setiap karakter dalam kalimat\n",
        "    for karakter in kalimat:\n",
        "        # Periksa apakah karakter adalah huruf\n",
        "        if karakter.isalpha():\n",
        "            # Periksa apakah karakter adalah huruf vokal atau konsonan\n",
        "            if karakter in vokal:\n",
        "                jumlah_vokal += 1\n",
        "            else:\n",
        "                jumlah_konsonan += 1\n",
        "\n",
        "    # Cetak hasil\n",
        "    print(f\"Jumlah huruf vokal: {jumlah_vokal}\")\n",
        "    print(f\"Jumlah huruf konsonan: {jumlah_konsonan}\")\n",
        "\n",
        "# Input dari pengguna\n",
        "kalimat = input(\"Masukkan sesuatu: \")\n",
        "\n",
        "# Hitung jumlah huruf vokal dan konsonan\n",
        "hitung_vokal_konsonan(kalimat)\n"
      ]
    },
    {
      "cell_type": "code",
      "execution_count": null,
      "metadata": {
        "colab": {
          "background_save": true,
          "base_uri": "https://localhost:8080/"
        },
        "id": "4NwewxhL5hmF",
        "outputId": "57998716-b66d-484f-f2ec-54e76829e871"
      },
      "outputs": [
        {
          "name": "stdout",
          "output_type": "stream",
          "text": [
            "@   @ @@@@ @@@@ @ @@@ @@@@\n",
            "@ @ @ @  @ @  @ @ @   @  @\n",
            "@   @ @  @ @  @ @ @   @@@@\n",
            "@   @ @@@@ @  @ @ @@@ @  @\n",
            "Hasil kubik dari 9 adalah 729\n",
            "False\n"
          ]
        }
      ],
      "source": [
        "print('@   @ @@@@ @@@@ @ @@@ @@@@')\n",
        "print('@ @ @ @  @ @  @ @ @   @  @')\n",
        "print('@   @ @  @ @  @ @ @   @@@@')\n",
        "print('@   @ @@@@ @  @ @ @@@ @  @')\n",
        "\n",
        "def kubik_angka(angka):\n",
        "    return angka ** 3\n",
        "\n",
        "def cek_habis_dibagi_tiga(angka):\n",
        "    if angka % 3 == 0:\n",
        "        hasil_kubik = kubik_angka(angka)\n",
        "        return hasil_kubik\n",
        "    else:\n",
        "        return False\n",
        "\n",
        "# Loop utama\n",
        "while True:\n",
        "    # Input dari pengguna\n",
        "    input_angka = input(\"Masukkan angka: \")\n",
        "\n",
        "    # Periksa apakah input valid\n",
        "    try:\n",
        "        bilangan = int(input_angka)\n",
        "    except ValueError:\n",
        "        print(\"Masukkan angka yang valid.\")\n",
        "        continue\n",
        "\n",
        "    # Panggil fungsi kedua dan cetak hasilnya\n",
        "    hasil = cek_habis_dibagi_tiga(bilangan)\n",
        "\n",
        "    if hasil is not False:\n",
        "        print(f\"Hasil kubik dari {bilangan} adalah {hasil}\")\n",
        "    else:\n",
        "        print(\"False\")\n",
        "\n"
      ]
    }
  ],
  "metadata": {
    "colab": {
      "provenance": [],
      "authorship_tag": "ABX9TyP0ShSWVm8dclXgFdndC1nH",
      "include_colab_link": true
    },
    "kernelspec": {
      "display_name": "Python 3",
      "name": "python3"
    },
    "language_info": {
      "name": "python"
    }
  },
  "nbformat": 4,
  "nbformat_minor": 0
}