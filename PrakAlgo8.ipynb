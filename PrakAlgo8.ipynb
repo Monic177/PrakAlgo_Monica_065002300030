{
  "nbformat": 4,
  "nbformat_minor": 0,
  "metadata": {
    "colab": {
      "provenance": [],
      "authorship_tag": "ABX9TyP+BMmCn9gh59KvKwm0TOEE",
      "include_colab_link": true
    },
    "kernelspec": {
      "name": "python3",
      "display_name": "Python 3"
    },
    "language_info": {
      "name": "python"
    }
  },
  "cells": [
    {
      "cell_type": "markdown",
      "metadata": {
        "id": "view-in-github",
        "colab_type": "text"
      },
      "source": [
        "<a href=\"https://colab.research.google.com/github/Monic177/PrakAlgo_Monica_065002300030/blob/main/PrakAlgo8.ipynb\" target=\"_parent\"><img src=\"https://colab.research.google.com/assets/colab-badge.svg\" alt=\"Open In Colab\"/></a>"
      ]
    },
    {
      "cell_type": "code",
      "execution_count": null,
      "metadata": {
        "colab": {
          "base_uri": "https://localhost:8080/"
        },
        "id": "MCqQE6Ik5xdM",
        "outputId": "f26cc9d2-5677-4c63-c0e4-a382aa824602"
      },
      "outputs": [
        {
          "output_type": "stream",
          "name": "stdout",
          "text": [
            "Masukkan sebuah kata: monica\n",
            "Karakter indeks ganjil: oia\n"
          ]
        }
      ],
      "source": [
        "def karakter_indeks_ganjil(input_string):\n",
        "    result = \"\"\n",
        "    for i in range(len(input_string)):\n",
        "        if i % 2 == 1:\n",
        "            result += input_string[i]\n",
        "    return result\n",
        "\n",
        "# Input dari pengguna\n",
        "input_user = input(\"Masukkan sebuah kata: \")\n",
        "\n",
        "# Memanggil fungsi dan mencetak hasilnya\n",
        "hasil = karakter_indeks_ganjil(input_user)\n",
        "print(\"Karakter indeks ganjil:\", hasil)"
      ]
    },
    {
      "cell_type": "code",
      "source": [
        "def hitung_jumlah_range(start, end):\n",
        "    total = 0\n",
        "    for i in range(start, end + 1):\n",
        "        total += i\n",
        "    return total\n",
        "\n",
        "print(\"PROGRAM MENGHITUNG JUMLAH RANGE\")\n",
        "start = int(input(\"Masukkan angka pertama : \"))\n",
        "end = int(input(\"Masukkan angka kedua : \"))\n",
        "\n",
        "hasil = hitung_jumlah_range(start, end)\n",
        "print(f\"Jumlah range adalah {hasil}\")"
      ],
      "metadata": {
        "id": "a-IMsg29NHfj",
        "colab": {
          "base_uri": "https://localhost:8080/"
        },
        "outputId": "3f1b9cda-ef4e-463b-c27a-67bba1f26cf7"
      },
      "execution_count": 2,
      "outputs": [
        {
          "output_type": "stream",
          "name": "stdout",
          "text": [
            "PROGRAM MENGHITUNG JUMLAH RANGE\n",
            "Masukkan angka pertama : 1\n",
            "Masukkan angka kedua : 9\n",
            "Jumlah range adalah 45\n"
          ]
        }
      ]
    }
  ]
}