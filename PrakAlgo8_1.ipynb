{
  "nbformat": 4,
  "nbformat_minor": 0,
  "metadata": {
    "colab": {
      "provenance": [],
      "authorship_tag": "ABX9TyNcJZtvg1RvfF0tMTc7YD4o",
      "include_colab_link": true
    },
    "kernelspec": {
      "name": "python3",
      "display_name": "Python 3"
    },
    "language_info": {
      "name": "python"
    }
  },
  "cells": [
    {
      "cell_type": "markdown",
      "metadata": {
        "id": "view-in-github",
        "colab_type": "text"
      },
      "source": [
        "<a href=\"https://colab.research.google.com/github/Monic177/PrakAlgo_Monica_065002300030/blob/main/PrakAlgo8_1.ipynb\" target=\"_parent\"><img src=\"https://colab.research.google.com/assets/colab-badge.svg\" alt=\"Open In Colab\"/></a>"
      ]
    },
    {
      "cell_type": "code",
      "execution_count": null,
      "metadata": {
        "colab": {
          "base_uri": "https://localhost:8080/"
        },
        "id": "fhYKn2Oc4nVY",
        "outputId": "bacd22f6-56ac-46f4-bcae-23b3ccaa3ef5"
      },
      "outputs": [
        {
          "output_type": "stream",
          "name": "stdout",
          "text": [
            "\n",
            "Masukan angka:1\n",
            "1 = prima\n",
            "\n",
            "Masukan angka:2\n",
            "2 = prima\n",
            "\n",
            "Masukan angka:15\n",
            "15 = bukan prima\n",
            "3 x 5 = 15\n",
            "\n",
            "Masukan angka:131\n",
            "131 = prima\n",
            "\n",
            "Masukan angka:7\n",
            "7 = prima\n",
            "\n",
            "Masukan angka:21\n",
            "21 = bukan prima\n",
            "3 x 7 = 21\n",
            "\n",
            "Masukan angka:13\n",
            "13 = prima\n",
            "\n"
          ]
        }
      ],
      "source": [
        "def cekBil(bil):\n",
        "  if bil == 1:\n",
        "    print(bil,\"= prima\")\n",
        "  elif bil == 2:\n",
        "    print(bil,\"= prima\")\n",
        "  else:\n",
        "    global x\n",
        "    for x in range(2,bil):\n",
        "      if bil%x==0:\n",
        "        stat = 0\n",
        "        break\n",
        "      else:\n",
        "        stat = 1\n",
        "    cekStat(stat)\n",
        "\n",
        "def cekStat(stat):\n",
        "  if stat == 0:\n",
        "    print(bil,\"= bukan prima\")\n",
        "    print(f\"{x} x {bil//x} = {bil}\")\n",
        "  else:\n",
        "    print(bil,\"= prima\")\n",
        "while True:\n",
        "  print()\n",
        "  bil = int(input(\"Masukan angka:\"))\n",
        "  cekBil(bil)"
      ]
    },
    {
      "cell_type": "code",
      "source": [
        "def make_ordinal(n):\n",
        "    '''\n",
        "    Mengubah sebuah bilangan ke bilangan ordinal ::\n",
        "\n",
        "        make_ordinal(0)   => '0th'\n",
        "        make_ordinal(3)   => '3rd'\n",
        "        make_ordinal(122) => '122nd'\n",
        "        make_ordinal(213) => '213th'\n",
        "    '''\n",
        "    n = int(n)\n",
        "    suffix = ['th', 'st', 'nd', 'rd', 'th'][min(n % 10, 4)]\n",
        "    if 11 <= (n % 100) <= 13:\n",
        "        suffix = 'th'\n",
        "    return str(n) + suffix\n",
        "\n",
        "ulang = 0\n",
        "while ulang == 0:\n",
        "    x = int(input(\"'0' untuk mengakhiri.\\nmasukan angka:\"))\n",
        "\n",
        "    if x == 0:\n",
        "        ulang = 1\n",
        "    else:\n",
        "        print(make_ordinal(x))\n"
      ],
      "metadata": {
        "colab": {
          "base_uri": "https://localhost:8080/"
        },
        "id": "kBHtwF_p8dsF",
        "outputId": "052a57a7-d8dc-4e65-b51a-175985eb1c26"
      },
      "execution_count": 7,
      "outputs": [
        {
          "name": "stdout",
          "output_type": "stream",
          "text": [
            "'0' untuk mengakhiri.\n",
            "masukan angka:121\n",
            "121st\n",
            "'0' untuk mengakhiri.\n",
            "masukan angka:122\n",
            "122nd\n",
            "'0' untuk mengakhiri.\n",
            "masukan angka:1\n",
            "1st\n",
            "'0' untuk mengakhiri.\n",
            "masukan angka:2\n",
            "2nd\n",
            "'0' untuk mengakhiri.\n",
            "masukan angka:3\n",
            "3rd\n",
            "'0' untuk mengakhiri.\n",
            "masukan angka:11\n",
            "11th\n",
            "'0' untuk mengakhiri.\n",
            "masukan angka:12\n",
            "12th\n",
            "'0' untuk mengakhiri.\n",
            "masukan angka:13\n",
            "13th\n",
            "'0' untuk mengakhiri.\n",
            "masukan angka:0\n"
          ]
        }
      ]
    }
  ]
}