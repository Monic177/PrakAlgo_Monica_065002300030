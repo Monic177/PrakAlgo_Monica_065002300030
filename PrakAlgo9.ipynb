{
  "nbformat": 4,
  "nbformat_minor": 0,
  "metadata": {
    "colab": {
      "provenance": [],
      "authorship_tag": "ABX9TyN6PINkGy8rAovsNnEvAsw+",
      "include_colab_link": true
    },
    "kernelspec": {
      "name": "python3",
      "display_name": "Python 3"
    },
    "language_info": {
      "name": "python"
    }
  },
  "cells": [
    {
      "cell_type": "markdown",
      "metadata": {
        "id": "view-in-github",
        "colab_type": "text"
      },
      "source": [
        "<a href=\"https://colab.research.google.com/github/Monic177/PrakAlgo_Monica_065002300030/blob/main/PrakAlgo9.ipynb\" target=\"_parent\"><img src=\"https://colab.research.google.com/assets/colab-badge.svg\" alt=\"Open In Colab\"/></a>"
      ]
    },
    {
      "cell_type": "code",
      "execution_count": 4,
      "metadata": {
        "colab": {
          "base_uri": "https://localhost:8080/"
        },
        "id": "zPH4h_SBDm8y",
        "outputId": "5c2c49be-6375-4310-b236-761260a8e91f"
      },
      "outputs": [
        {
          "output_type": "stream",
          "name": "stdout",
          "text": [
            "@   @ @@@@ @@@@ @ @@@ @@@@\n",
            "@ @ @ @  @ @  @ @ @   @  @\n",
            "@   @ @  @ @  @ @ @   @@@@\n",
            "@   @ @@@@ @  @ @ @@@ @  @\n",
            "========== ELKOM 1 ==========\n",
            "[0, 6, 8, 1, 2, 3, 5, 7, 4]\n",
            "hasil reverse ke tuple\n",
            "(0, 6, 8, 1, 2, 3, 5, 7, 4)\n"
          ]
        }
      ],
      "source": [
        "print('@   @ @@@@ @@@@ @ @@@ @@@@')\n",
        "print('@ @ @ @  @ @  @ @ @   @  @')\n",
        "print('@   @ @  @ @  @ @ @   @@@@')\n",
        "print('@   @ @@@@ @  @ @ @@@ @  @')\n",
        "\n",
        "print(\"========== ELKOM 1 ==========\")\n",
        "\n",
        "def list_to_tuple(input_list):\n",
        "    return tuple(input_list)\n",
        "\n",
        "# Contoh list\n",
        "sample_list = [0, 6, 8, 1, 2, 3, 5, 7, 4]\n",
        "\n",
        "# Konversi list menjadi tuple\n",
        "result_tuple = list_to_tuple(sample_list)\n",
        "\n",
        "print(sample_list)\n",
        "print(\"hasil reverse ke tuple\")\n",
        "print(result_tuple)"
      ]
    },
    {
      "cell_type": "code",
      "source": [
        "print('tuple 1:')\n",
        "a = ('1021, 1022, 1023', '1025, 1026, 1027', '1029, 1030, 1030')\n",
        "print(a)\n",
        "def ratarata(angka):\n",
        "    rata_rata = [int(x) for x in angka.split(', ')]\n",
        "    return int(sum(rata_rata) / len(rata_rata))\n",
        "\n",
        "averages = [ratarata(group) for group in a]\n",
        "print(\"rata rata dari tuple adalah : \")\n",
        "print(averages)\n",
        "\n",
        "print(\"===== MONICA SICILIA SIMANJUNTAK =====\")\n",
        "print(\"===== 065002300030 =====\")"
      ],
      "metadata": {
        "colab": {
          "base_uri": "https://localhost:8080/"
        },
        "id": "XFlpYLXXMhw_",
        "outputId": "65b18ca5-e339-4b26-eaaa-d53f8a460b4f"
      },
      "execution_count": 22,
      "outputs": [
        {
          "output_type": "stream",
          "name": "stdout",
          "text": [
            "tuple 1:\n",
            "('1021, 1022, 1023', '1025, 1026, 1027', '1029, 1030, 1030')\n",
            "rata rata dari tuple adalah : \n",
            "[1022, 1026, 1029]\n",
            "===== MONICA SICILIA SIMANJUNTAK =====\n",
            "===== 065002300030 =====\n"
          ]
        }
      ]
    },
    {
      "cell_type": "code",
      "source": [
        "print('@   @ @@@@ @@@@ @ @@@ @@@@')\n",
        "print('@ @ @ @  @ @  @ @ @   @  @')\n",
        "print('@   @ @  @ @  @ @ @   @@@@')\n",
        "print('@   @ @@@@ @  @ @ @@@ @  @')\n",
        "\n",
        "print(\"Elkom 3\")\n",
        "a = [1,2,4,3]\n",
        "\n",
        "print(a)\n",
        "\n",
        "hasil = 1\n",
        "\n",
        "for result in a:\n",
        "    hasil *= result\n",
        "\n",
        "\n",
        "print(hasil)"
      ],
      "metadata": {
        "colab": {
          "base_uri": "https://localhost:8080/"
        },
        "id": "_ktm5Rq8NOxm",
        "outputId": "073a8174-0591-49c6-fa82-6bc25c81bc24"
      },
      "execution_count": 23,
      "outputs": [
        {
          "output_type": "stream",
          "name": "stdout",
          "text": [
            "@   @ @@@@ @@@@ @ @@@ @@@@\n",
            "@ @ @ @  @ @  @ @ @   @  @\n",
            "@   @ @  @ @  @ @ @   @@@@\n",
            "@   @ @@@@ @  @ @ @@@ @  @\n",
            "Elkom 3\n",
            "[1, 2, 4, 3]\n",
            "24\n"
          ]
        }
      ]
    },
    {
      "cell_type": "code",
      "source": [
        "def hitung(liststring):\n",
        "    count = 0\n",
        "    for string in liststring:\n",
        "        if len(string) >= 2 and string[0] == string[-1]:\n",
        "            count += 1\n",
        "            print(f\"-{string}\")\n",
        "    return count\n",
        "\n",
        "\n",
        "my_list = ['z', 'xvc', 'cac', '244']\n",
        "print(my_list)\n",
        "result = hitung(my_list)\n",
        "\n",
        "print(f\"terdapat {result} yang memenuhi syarat\")"
      ],
      "metadata": {
        "colab": {
          "base_uri": "https://localhost:8080/"
        },
        "id": "rBUBS0wuPRhv",
        "outputId": "a5b6d56c-559d-4939-f888-338b54641eef"
      },
      "execution_count": 26,
      "outputs": [
        {
          "output_type": "stream",
          "name": "stdout",
          "text": [
            "['z', 'xvc', 'cac', '244']\n",
            "-cac\n",
            "terdapat 1 yang memenuhi syarat\n"
          ]
        }
      ]
    }
  ]
}