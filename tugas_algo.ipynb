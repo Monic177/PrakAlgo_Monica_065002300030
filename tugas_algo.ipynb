{
  "nbformat": 4,
  "nbformat_minor": 0,
  "metadata": {
    "colab": {
      "provenance": [],
      "authorship_tag": "ABX9TyM0lsZgt4/k/bUG566p6boO",
      "include_colab_link": true
    },
    "kernelspec": {
      "name": "python3",
      "display_name": "Python 3"
    },
    "language_info": {
      "name": "python"
    }
  },
  "cells": [
    {
      "cell_type": "markdown",
      "metadata": {
        "id": "view-in-github",
        "colab_type": "text"
      },
      "source": [
        "<a href=\"https://colab.research.google.com/github/Monic177/PrakAlgo_Monica_065002300030/blob/main/tugas_algo.ipynb\" target=\"_parent\"><img src=\"https://colab.research.google.com/assets/colab-badge.svg\" alt=\"Open In Colab\"/></a>"
      ]
    },
    {
      "cell_type": "code",
      "source": [
        "  # Input nama\n",
        "  nama = input(\"Nama : \")\n",
        "\n",
        "  while not nama.isalpha():\n",
        "     print(\"Masukkan nama yang valid!\")\n",
        "     nama = input(\"Nama : \")\n",
        "\n",
        "     while True:\n",
        "        # Input jam kerja\n",
        "        jamKerja = float(input(\"Jam masuk kerja (jam.menit)[contoh 7.30 untuk 7:30]: \"))\n",
        "\n",
        "        # Gaji perhari\n",
        "        gajiPerhari = 175000\n",
        "\n",
        "        # Mengecek apakah jam kerja valid (antara 0 hingga 24)\n",
        "        if jamKerja < 0.00 or jamKerja >24.00:\n",
        "          print(\"jam masuk kerja tidak valid!\")\n",
        "\n",
        "        else:\n",
        "          # Ucapan selamat pagi, siang, sore, malam berdasarkan waktu\n",
        "          if jamKerja >= 6.00 and jamKerja <= 12.00:\n",
        "            print(f\"\\nSelamat pagi {nama}\\n\")\n",
        "          elif jamKerja >= 12.00 and jamKerja <= 15.00:\n",
        "            print(f\"\\nSelamat siang {nama}\\n\")\n",
        "          elif jamKerja >= 15.00 and jamKerja <= 18.00:\n",
        "            print(f\"\\nSelamat sore {nama}\\n\")\n",
        "          elif jamKerja >= 18.00 and jamKerja <= 24.00:\n",
        "            print(f\"\\nSelamat malam {nama}\\n\")\n",
        "          else:\n",
        "            print(\"Jam masuk kerja tidak valid!\")\n",
        "\n",
        "          # Input jam keluar kerja\n",
        "          jamKeluarKerja = float(input(\"Jam keluar kerja (jam.menit)[contoh 18.30 untuk 18:30]: \"))\n",
        "\n",
        "          # Mengecek apakah jam keluar kerja valid (antara 0 hingga 24)\n",
        "          if jamKeluarKerja < 0.00 or jamKeluarKerja > 24.00:\n",
        "            print(\"Jam keluar kerja tidak valid!\")\n",
        "          else:\n",
        "            # Ucapan selamat pagi, siang, sore, malam berdasarkan waktu\n",
        "            if jamKeluarKerja >= 6.00 and jamKeluarKerja <= 12.00:\n",
        "              print(f\"\\nSelamat pagi\\n\")\n",
        "            elif jamKeluarKerja >= 12.00 and jamKeluarKerja <= 15.00:\n",
        "              print(f\"\\nSelamat siang\\n\")\n",
        "            elif jamKeluarKerja >= 15.00 and jamKeluarKerja <= 18.00:\n",
        "              print(f\"\\nSelamat sore\\n\")\n",
        "            elif jamKeluarKerja >= 18.00 and jamKeluarKerja <= 24.00:\n",
        "              print(f\"\\nSelamat malam\\n\")\n",
        "            else:\n",
        "              print(\"Jam keluar kerja tidak valid!\")\n",
        "\n",
        "            print(5 * \"-\", \"Rincian gaji\", 5 * \"-\")\n",
        "\n",
        "            print(f\"Nama : {nama}\")\n",
        "\n",
        "            waktuKerja = (jamKeluarKerja - jamKerja)\n",
        "\n",
        "            print(f\"Waktu Kerja = {int(waktuKerja)} jam ({jamKerja:.2f} s.d {jamKeluarKerja:.2f})\")\n",
        "\n",
        "            if waktuKerja <= 8:\n",
        "              gajiPerhari\n",
        "            else:\n",
        "              gaji_tambahan = (int(waktuKerja) - 8) * 15000\n",
        "              gaji_total = gajiPerhari + gaji_tambahan\n",
        "\n",
        "            print(f\"Gaji perhari : {gajiPerhari}\")\n",
        "            print(f\"Lembur : {gaji_tambahan:.2f} ({int(waktuKerja - 8)} jam * Rp.15000)\")\n",
        "            print(f\"Gaji Total: {gaji_total:.2f}\")\n",
        "\n"
      ],
      "metadata": {
        "colab": {
          "base_uri": "https://localhost:8080/"
        },
        "id": "OeaKCnCdtlE4",
        "outputId": "d0b6b701-a2d8-43db-a48d-f4eae12e37d4"
      },
      "execution_count": 10,
      "outputs": [
        {
          "name": "stdout",
          "output_type": "stream",
          "text": [
            "Nama : monic\n"
          ]
        }
      ]
    },
    {
      "cell_type": "code",
      "source": [],
      "metadata": {
        "id": "ADl-wzdjyQXI"
      },
      "execution_count": null,
      "outputs": []
    }
  ]
}