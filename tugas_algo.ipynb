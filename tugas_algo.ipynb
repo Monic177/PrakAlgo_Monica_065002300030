{
  "nbformat": 4,
  "nbformat_minor": 0,
  "metadata": {
    "colab": {
      "provenance": [],
      "authorship_tag": "ABX9TyNfQ/ubEWzGISO7RqFW9jvr",
      "include_colab_link": true
    },
    "kernelspec": {
      "name": "python3",
      "display_name": "Python 3"
    },
    "language_info": {
      "name": "python"
    }
  },
  "cells": [
    {
      "cell_type": "markdown",
      "metadata": {
        "id": "view-in-github",
        "colab_type": "text"
      },
      "source": [
        "<a href=\"https://colab.research.google.com/github/Monic177/PrakAlgo_Monica_065002300030/blob/main/tugas_algo.ipynb\" target=\"_parent\"><img src=\"https://colab.research.google.com/assets/colab-badge.svg\" alt=\"Open In Colab\"/></a>"
      ]
    },
    {
      "cell_type": "code",
      "source": [
        "#Input nama\n",
        "nama = input(\"Nama : \")\n",
        "\n",
        "#input jam kerja\n",
        "jamKerja = int(input(\"Jam masuk kerja : \"))\n",
        "\n",
        "#gaji perhari\n",
        "gajiPerhari = 175000\n",
        "\n",
        "#ucapan selamat pagi, siang, sore, malam\n",
        "#berdasarkan waktu\n",
        "if jamKerja >=6 and jamKerja <= 12:\n",
        "    print(f\"selamat pagi {nama}\\n\")\n",
        "\n",
        "elif jamKerja >= 12 and jamKerja <= 15 :\n",
        "    print(f\"selamat siang {nama}\\n\")\n",
        "\n",
        "elif jamKerja >= 15 and jamKerja <= 18:\n",
        "    print(f\"selamat sore {nama}\\n\")\n",
        "\n",
        "elif jamKerja >= 18 and jamKerja <= 24:\n",
        "    print(f\"selamat malam {nama}\\n\")\n",
        "else:\n",
        "    print(\"jam tidak valid!\")\n",
        "\n",
        "\n",
        "#jam keluar kerja\n",
        "jamKeluarKerja = int(input(\"Jam keluar kerja: \"))\n",
        "#ucapan selamat pagi, siang, sore, malam\n",
        "#berdasarkan waktu\n",
        "if jamKeluarKerja >=6 and jamKeluarKerja <= 12:\n",
        "    print(f\"selamat pagi\")\n",
        "\n",
        "elif jamKeluarKerja >= 12 and jamKeluarKerja <= 15 :\n",
        "    print(f\"selamat siang\")\n",
        "\n",
        "elif jamKeluarKerja >= 15 and jamKeluarKerja <= 18:\n",
        "    print(f\"selamat sore\")\n",
        "\n",
        "elif jamKeluarKerja >= 18 and jamKeluarKerja <= 24:\n",
        "    print(f\"selamat malam\")\n",
        "else:\n",
        "    print(\"Jam tidak valid!\")\n",
        "\n",
        "print(5*\"-\",\"rincian gaji\",5*\"-\")\n",
        "\n",
        "print(f\"Nama : {nama}\")\n",
        "\n",
        "waktuKerja = jamKeluarKerja - jamKerja\n",
        "\n",
        "print(f\"Waktu Kerja = {waktuKerja} jam ({jamKerja} s.d {jamKeluarKerja})\")\n",
        "\n",
        "if waktuKerja <= 8:\n",
        "    gaji_total = gajiPerhari\n",
        "else:\n",
        "    gaji_tambahan = (waktuKerja - 8) * 15000\n",
        "    gaji_total = gajiPerhari + gaji_tambahan\n",
        "\n",
        "print(f\"Gaji perhari : {gajiPerhari}\")\n",
        "print(f\"Lembur : {gaji_total} ({waktuKerja} * Rp.15,000)\")"
      ],
      "metadata": {
        "colab": {
          "base_uri": "https://localhost:8080/"
        },
        "id": "538GfxMO_2Yr",
        "outputId": "fc105943-271e-4991-bc09-d636636ff391"
      },
      "execution_count": 13,
      "outputs": [
        {
          "output_type": "stream",
          "name": "stdout",
          "text": [
            "Nama : monic\n",
            "Jam masuk kerja : 8\n",
            "selamat pagi monic\n",
            "\n",
            "Jam keluar kerja: 20\n",
            "selamat malam\n",
            "----- rincian gaji -----\n",
            "Nama : monic\n",
            "Waktu Kerja = 12 jam (8 s.d 20)\n",
            "Gaji perhari : 175000\n",
            "Lembur : 235000 (12 * Rp.15,000)\n"
          ]
        }
      ]
    }
  ]
}