{
  "nbformat": 4,
  "nbformat_minor": 0,
  "metadata": {
    "colab": {
      "provenance": [],
      "authorship_tag": "ABX9TyOi5F49YLwZ/ZAK/KLQxvhw",
      "include_colab_link": true
    },
    "kernelspec": {
      "name": "python3",
      "display_name": "Python 3"
    },
    "language_info": {
      "name": "python"
    }
  },
  "cells": [
    {
      "cell_type": "markdown",
      "metadata": {
        "id": "view-in-github",
        "colab_type": "text"
      },
      "source": [
        "<a href=\"https://colab.research.google.com/github/Monic177/PrakAlgo_Monica_065002300030/blob/main/tugas_algo.ipynb\" target=\"_parent\"><img src=\"https://colab.research.google.com/assets/colab-badge.svg\" alt=\"Open In Colab\"/></a>"
      ]
    },
    {
      "cell_type": "code",
      "source": [
        "#Input nama\n",
        "nama = input(\"Nama : \")\n",
        "\n",
        "#input jam kerja\n",
        "jamKerja = int(input(\"Jam masuk kerja : \"))\n",
        "\n",
        "#gaji perhari\n",
        "gajiPerhari = 175000\n",
        "\n",
        "#ucapan selamat pagi, siang, sore, malam\n",
        "#berdasarkan waktu\n",
        "if jamKerja >=6 and jamKerja <= 12:\n",
        "    print(f\"selamat pagi {nama}\\n\")\n",
        "\n",
        "elif jamKerja >= 12 and jamKerja <= 15 :\n",
        "    print(f\"selamat siang {nama}\\n\")\n",
        "\n",
        "elif jamKerja >= 15 and jamKerja <= 18:\n",
        "    print(f\"selamat sore {nama}\\n\")\n",
        "\n",
        "elif jamKerja >= 18 and jamKerja <= 24:\n",
        "    print(f\"selamat malam {nama}\\n\")\n",
        "else:\n",
        "    print(\"jam tidak valid!\")\n",
        "\n",
        "\n",
        "#jam keluar kerja\n",
        "jamKeluarKerja = int(input(\"Jam keluar kerja: \"))\n",
        "#ucapan selamat pagi, siang, sore, malam\n",
        "#berdasarkan waktu\n",
        "if jamKeluarKerja >=6 and jamKeluarKerja <= 12:\n",
        "    print(f\"selamat pagi\")\n",
        "\n",
        "elif jamKeluarKerja >= 12 and jamKeluarKerja <= 15 :\n",
        "    print(f\"selamat siang\")\n",
        "\n",
        "elif jamKeluarKerja >= 15 and jamKeluarKerja <= 18:\n",
        "    print(f\"selamat sore\")\n",
        "\n",
        "elif jamKeluarKerja >= 18 and jamKeluarKerja <= 24:\n",
        "    print(f\"selamat malam\")\n",
        "else:\n",
        "    print(\"Jam tidak valid!\")\n",
        "\n",
        "print(5*\"-\",\"rincian gaji\",5*\"-\")\n",
        "\n",
        "print(f\"Nama : {nama}\")\n",
        "\n",
        "waktuKerja = jamKeluarKerja - jamKerja\n",
        "\n",
        "print(f\"Waktu Kerja = {waktuKerja} jam ({jamKerja} s.d {jamKeluarKerja})\")\n",
        "\n",
        "if waktuKerja <= 8:\n",
        "    gaji_total = gajiPerhari\n",
        "else:\n",
        "    gaji_tambahan = (waktuKerja - 8) * 15000\n",
        "    gaji_total = gajiPerhari + gaji_tambahan\n",
        "\n",
        "print(f\"Gaji perhari : {gajiPerhari}\")\n",
        "print(f\"Lembur : {gaji_total} ({waktuKerja} * Rp.15,000)\")"
      ],
      "metadata": {
        "colab": {
          "base_uri": "https://localhost:8080/"
        },
        "id": "538GfxMO_2Yr",
        "outputId": "224a26fc-dbe2-440b-8b22-53ca94a596a6"
      },
      "execution_count": null,
      "outputs": [
        {
          "output_type": "stream",
          "name": "stdout",
          "text": [
            "Nama : monic\n",
            "Jam masuk kerja : 8\n",
            "selamat pagi monic\n",
            "\n",
            "Jam keluar kerja: 20\n",
            "selamat malam\n",
            "----- rincian gaji -----\n",
            "Nama : monic\n",
            "Waktu Kerja = 12 jam (8 s.d 20)\n",
            "Gaji perhari : 175000\n",
            "Lembur : 235000 (12 * Rp.15,000)\n"
          ]
        }
      ]
    },
    {
      "cell_type": "code",
      "source": [
        "# Input nama\n",
        "while True:\n",
        "    nama = input(\"Nama : \")\n",
        "\n",
        "    if nama.isdigit():\n",
        "        print(\"Masukkan nama yang valid!\")\n",
        "        continue\n",
        "\n",
        "\n",
        "        # Input jam kerja\n",
        "    jamKerja = float(input(\"Jam masuk kerja (jam.menit)[contoh 6.30 untuk 06:30]: \"))\n",
        "\n",
        "        # Gaji perhari\n",
        "    gajiPerhari = 175000\n",
        "\n",
        "        # Mengecek apakah jam kerja valid (antara 0 hingga 24)\n",
        "    if jamKerja < 0.00 or jamKerja > 24.00:\n",
        "            print(\"Jam masuk kerja tidak valid!\")\n",
        "    else:\n",
        "            # Ucapan selamat pagi, siang, sore, malam berdasarkan waktu\n",
        "            if jamKerja >= 6.00 and jamKerja <= 12.00:\n",
        "                print(f\"\\nSelamat pagi {nama}\\n\")\n",
        "            elif jamKerja >= 12.00 and jamKerja <= 15.00:\n",
        "                print(f\"\\nSelamat siang {nama}\\n\")\n",
        "            elif jamKerja >= 15.00 and jamKerja <= 18.00:\n",
        "                print(f\"\\nSelamat sore {nama}\\n\")\n",
        "            elif jamKerja >= 18.00 and jamKerja <= 24.00:\n",
        "                print(f\"\\nSelamat malam {nama}\\n\")\n",
        "            else:\n",
        "                print(\"Jam masuk kerja tidak valid!\")\n",
        "\n",
        "            # Input jam keluar kerja\n",
        "            jamKeluarKerja = float(input(\"Jam keluar kerja (jam.menit)[contoh 18.30 untuk 18:30]: \"))\n",
        "\n",
        "            # Mengecek apakah jam keluar kerja valid (antara 0 hingga 24)\n",
        "            if jamKeluarKerja < 0.00 or jamKeluarKerja > 24.00:\n",
        "                print(\"Jam keluar kerja tidak valid!\")\n",
        "            else:\n",
        "                # Ucapan selamat pagi, siang, sore, malam berdasarkan waktu\n",
        "                if jamKeluarKerja >= 6.00 and jamKeluarKerja <= 12.00:\n",
        "                    print(f\"\\nSelamat pagi\\n\")\n",
        "                elif jamKeluarKerja >= 12.00 and jamKeluarKerja <= 15.00:\n",
        "                    print(f\"\\nSelamat siang\\n\")\n",
        "                elif jamKeluarKerja >= 15.00 and jamKeluarKerja <= 18.00:\n",
        "                    print(f\"\\nSelamat sore\\n\")\n",
        "                elif jamKeluarKerja >= 18.00 and jamKeluarKerja <= 24.00:\n",
        "                    print(f\"\\nSelamat malam\\n\")\n",
        "                else:\n",
        "                    print(\"Jam keluar kerja tidak valid!\")\n",
        "\n",
        "                print(5 * \"-\", \"Rincian gaji\", 5 * \"-\")\n",
        "\n",
        "                print(f\"Nama : {nama}\")\n",
        "\n",
        "                waktuKerja = (jamKeluarKerja - jamKerja)\n",
        "\n",
        "                print(f\"Waktu Kerja = {int(waktuKerja)} jam ({jamKerja:.2f} s.d {jamKeluarKerja:.2f})\")\n",
        "\n",
        "                if waktuKerja <= 8:\n",
        "                    gaji_total = gajiPerhari\n",
        "                else:\n",
        "                    gaji_tambahan = (int(waktuKerja) - 8) * 15000\n",
        "                    gaji_total = gajiPerhari + gaji_tambahan\n",
        "\n",
        "                print(f\"Gaji perhari : {gajiPerhari}\")\n",
        "                print(f\"Lembur : {gaji_tambahan:.2f} ({int(waktuKerja - 8)} jam * Rp.15,000)\")\n",
        "                print(f\"Gaji Total: {gaji_total:.2f}\")\n",
        "    ulangi = input(\"Ulangi Proses? (y/n) : \")\n",
        "    if ulangi.lower() != \"y\":\n",
        "\n",
        "        break"
      ],
      "metadata": {
        "id": "HeH52Kdtlw2E",
        "colab": {
          "base_uri": "https://localhost:8080/"
        },
        "outputId": "c41286d5-7a76-43e8-f6e9-04d65378bf23"
      },
      "execution_count": 1,
      "outputs": [
        {
          "name": "stdout",
          "output_type": "stream",
          "text": [
            "Nama : Monica Sicilia Simanjuntak \n",
            "Jam masuk kerja (jam.menit)[contoh 6.30 untuk 06:30]: 7.30\n",
            "\n",
            "Selamat pagi Monica Sicilia Simanjuntak \n",
            "\n",
            "Jam keluar kerja (jam.menit)[contoh 18.30 untuk 18:30]: 20.30\n",
            "\n",
            "Selamat malam\n",
            "\n",
            "----- Rincian gaji -----\n",
            "Nama : Monica Sicilia Simanjuntak \n",
            "Waktu Kerja = 13 jam (7.30 s.d 20.30)\n",
            "Gaji perhari : 175000\n",
            "Lembur : 75000.00 (5 jam * Rp.15,000)\n",
            "Gaji Total: 250000.00\n",
            "Ulangi Proses? (y/n) : n\n"
          ]
        }
      ]
    }
  ]
}